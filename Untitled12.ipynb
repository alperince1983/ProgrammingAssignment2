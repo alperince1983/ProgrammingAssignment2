{
 "cells": [
  {
   "cell_type": "code",
   "execution_count": 32,
   "metadata": {
    "scrolled": true
   },
   "outputs": [
    {
     "data": {
      "text/plain": [
       "159"
      ]
     },
     "execution_count": 32,
     "metadata": {},
     "output_type": "execute_result"
    }
   ],
   "source": [
    "import requests\n",
    "url=\"https://tweakers.net/reviews/zoeken/#filter:q1YqSizJzEv3zcxTsjKoBQA\"\n",
    "r=requests.get(url)\n",
    "\n",
    "# Extract HTML from Response object\n",
    "    \n",
    "html = r.text\n",
    "\n",
    "# BeautifulSoup extracts text out of HTMl and creates a soup \"pagesoup\"\n",
    "\n",
    "from bs4 import BeautifulSoup\n",
    "mysoup = BeautifulSoup(html, 'html.parser') \n",
    "\n",
    "# Get the text out of the \"pagesoup\" and store it in \"text\n",
    "\n",
    "import re\n",
    "\n",
    "alllinksinapage=mysoup.find_all(\"a\") \n",
    "len(alllinksinapage)"
   ]
  },
  {
   "cell_type": "code",
   "execution_count": 33,
   "metadata": {},
   "outputs": [],
   "source": [
    "numberoflinks=len(alllinksinapage)"
   ]
  },
  {
   "cell_type": "code",
   "execution_count": 34,
   "metadata": {},
   "outputs": [
    {
     "data": {
      "text/plain": [
       "[<a href=\"https://tweakers.net/\"></a>,\n",
       " <a href=\"https://tweakers.net/\">Frontpage</a>,\n",
       " <a href=\"https://tweakers.net/nieuws/\">Nieuws</a>,\n",
       " <a href=\"https://tweakers.net/reviews/\">Reviews</a>,\n",
       " <a href=\"https://tweakers.net/pricewatch/\">Pricewatch</a>,\n",
       " <a href=\"https://tweakers.net/aanbod/\">Vraag &amp; Aanbod</a>,\n",
       " <a href=\"https://gathering.tweakers.net/\">Forum</a>,\n",
       " <a href=\"https://tweakers.net/video/\">Video</a>,\n",
       " <a href=\"https://tweakers.net/downloads/\">Downloads</a>,\n",
       " <a href=\"https://www.vacature.com/nl-be/jobs-in-ICT/functiegroep?utm_campaign=jobticker&amp;utm_content=jobtickertweakers&amp;utm_medium=partnersite&amp;utm_source=tweakers\" rel=\"external\">IT Banen</a>,\n",
       " <a href=\"https://tweakers.net/categorie/892/it-pro/\">IT Pro</a>,\n",
       " <a href=\"https://tweakers.net/gallery/\" rel=\"nofollow\">Profielen</a>,\n",
       " <a href=\"https://tweakblogs.net/\">Tweakblogs</a>,\n",
       " <a href=\"https://tweakers.net/acties/\">Acties &amp; Events</a>,\n",
       " <a href=\"https://tweakers.net/abonnementen/\" id=\"subscriptionShopUrl\">Word Abonnee</a>,\n",
       " <a href=\"https://tweakers.net/info/over_tweakers/\">Over Tweakers</a>,\n",
       " <a href=\"https://tweakers.net/my.tnet/login/?location=https%3A//tweakers.net/reviews/zoeken/\" rel=\"nofollow\">Inloggen</a>,\n",
       " <a href=\"https://tweakers.net/my.tnet/register/\" rel=\"nofollow\">Registreren</a>,\n",
       " <a id=\"searchPopupButton\">Zoeken</a>,\n",
       " <a data-autocolor=\"238\" data-country=\"BE\" id=\"displayOptionsPopupButton\" rel=\"popup:displayOptions\" title=\"Weergave-opties\">settings</a>,\n",
       " <a title=\"Vergelijken\">vergelijk items</a>,\n",
       " <a href=\"https://tweakers.net/my.tnet/login/?location=https%3A//tweakers.net/reviews/zoeken/\" rel=\"nofollow\">Inloggen</a>,\n",
       " <a href=\"https://tweakers.net/my.tnet/register/\" rel=\"nofollow\">Registreren</a>,\n",
       " <a class=\"facebook\" href=\"https://www.facebook.com/Tweakers.net\" rel=\"external\">\n",
       " <span class=\"arrow-left\"></span>\n",
       " <span class=\"count\">34,2K</span>\n",
       " </a>,\n",
       " <a class=\"twitter\" href=\"https://twitter.com/tweakers\" rel=\"external\">\n",
       " <span class=\"arrow-left\"></span>\n",
       " <span class=\"count\">78,3K</span>\n",
       " </a>,\n",
       " <a href=\"https://www.true.nl/webhosting/\" id=\"true\" rel=\"external\" title=\"Hosting door True\"></a>,\n",
       " <a href=\"https://tweakers.net/info/algemene-voorwaarden/cookies/\">cookiebeleid</a>,\n",
       " <a class=\"textButton\" href=\"https://tweakers.net/cookies/\" style=\"margin-left:10px\">Meer informatie</a>,\n",
       " <a class=\"fancyButton grey disabled\">\n",
       " <span>\n",
       "                             Toon resultaten <span class=\"totalResultCount\"></span>\n",
       " </span>\n",
       " </a>,\n",
       " <a class=\"fancyButton grey disabled\">\n",
       " <span>\n",
       "                             Toon resultaten <span class=\"totalResultCount\"></span>\n",
       " </span>\n",
       " </a>,\n",
       " <a class=\"fancyButton grey disabled\">\n",
       " <span>\n",
       "                             Toon resultaten <span class=\"totalResultCount\"></span>\n",
       " </span>\n",
       " </a>,\n",
       " <a class=\"fancyButton grey disabled\">\n",
       " <span>\n",
       "                             Toon resultaten <span class=\"totalResultCount\"></span>\n",
       " </span>\n",
       " </a>,\n",
       " <a class=\"fancyButton grey disabled\">\n",
       " <span>\n",
       "                             Toon resultaten <span class=\"totalResultCount\"></span>\n",
       " </span>\n",
       " </a>,\n",
       " <a class=\"fancyButton grey disabled\">\n",
       " <span>\n",
       "                             Toon resultaten <span class=\"totalResultCount\"></span>\n",
       " </span>\n",
       " </a>,\n",
       " <a class=\"fancyButton grey disabled\">\n",
       " <span>\n",
       "                             Toon resultaten <span class=\"totalResultCount\"></span>\n",
       " </span>\n",
       " </a>,\n",
       " <a href=\"https://tweakers.net/reviews/zoeken/?orderField=time&amp;orderSpecId=-1&amp;orderSort=asc\" rel=\"nofollow\">Datum <small>(oud - nieuw)</small></a>,\n",
       " <a href=\"https://tweakers.net/reviews/zoeken/?orderField=time&amp;orderSpecId=-1&amp;orderSort=desc\" rel=\"nofollow\">Datum <small>(nieuw - oud)</small></a>,\n",
       " <a href=\"https://tweakers.net/reviews/zoeken/?orderField=score&amp;orderSpecId=-1&amp;orderSort=desc\" rel=\"nofollow\">Score</a>,\n",
       " <a class=\"thumb fpa\" href=\"https://tweakers.net/reviews/6223/gift-guide-voor-de-zomervakantie-de-leukste-gadgets-onder-150-euro.html\" title=\"Gift Guide voor de zomervakantie - De leukste gadgets onder 150 euro\"><img alt=\"\" height=\"67\" src=\"https://tweakers.net/i/MsZ6eBywFyeYP13VdeU7ffyDekM=/fit-in/67x67/filters:strip_icc()/i/2001544955.jpeg?f=fpa\" width=\"67\"/></a>,\n",
       " <a href=\"https://tweakers.net/reviews/6223/gift-guide-voor-de-zomervakantie-de-leukste-gadgets-onder-150-euro.html\">Round-up - Gift Guide voor de zomervakantie - De leukste gadgets onder 150 euro</a>,\n",
       " <a class=\"commentCount\" href=\"https://tweakers.net/reviews/6223/last/gift-guide-voor-de-zomervakantie-de-leukste-gadgets-onder-150-euro.html#reacties\" rel=\"nofollow\" title=\"104 reacties\">104</a>,\n",
       " <a class=\"thumb fpa\" href=\"https://tweakers.net/reviews/6229/oneplus-6-blinkt-uit-in-zijn-eenvoud.html\" title=\"OnePlus 6 - Blinkt uit in zijn eenvoud\"><img alt=\"\" height=\"67\" src=\"https://tweakers.net/i/VpL9-JLvWQ8rdpIJPEaBU9yWwM0=/67x67/i/2001757719.png?f=fpa\" width=\"67\"/></a>,\n",
       " <a href=\"https://tweakers.net/reviews/6229/oneplus-6-blinkt-uit-in-zijn-eenvoud.html\">Review - OnePlus 6 - Blinkt uit in zijn eenvoud</a>,\n",
       " <a href=\"https://tweakers.net/reviews/6229/oneplus-6-blinkt-uit-in-zijn-eenvoud.html\"><img alt=\"Tweakers zegt: 9\" class=\"score-shield\" height=\"36\" src=\"https://ic.tweakimg.net/images/shield/90.svg\" title=\"Tweakers zegt: 9\" width=\"32\"/></a>,\n",
       " <a class=\"commentCount\" href=\"https://tweakers.net/reviews/6229/last/oneplus-6-blinkt-uit-in-zijn-eenvoud.html#reacties\" rel=\"nofollow\" title=\"267 reacties\">267</a>,\n",
       " <a class=\"thumb fpa\" href=\"https://tweakers.net/reviews/6235/build-bouw-je-eigen-zx-spectrum.html\" title=\".Build - Bouw je eigen ZX Spectrum\"><img alt=\"\" height=\"67\" src=\"https://tweakers.net/i/UOZMlyjHlNTmFtXvMi3abX5h-SU=/67x67/filters:strip_icc()/i/2001976879.jpeg?f=fpa\" width=\"67\"/></a>,\n",
       " <a href=\"https://tweakers.net/reviews/6235/build-bouw-je-eigen-zx-spectrum.html\">Achtergrond - .Build - Bouw je eigen ZX Spectrum</a>,\n",
       " <a class=\"commentCount\" href=\"https://tweakers.net/reviews/6235/last/build-bouw-je-eigen-zx-spectrum.html#reacties\" rel=\"nofollow\" title=\"35 reacties\">35</a>,\n",
       " <a class=\"thumb fpa\" href=\"https://tweakers.net/reviews/6237/detroit-become-human-androids-met-emotie.html\" title=\"Detroit: Become Human - Androids met emotie\"><img alt=\"\" height=\"67\" src=\"https://tweakers.net/i/OawkR_gnd1Rp-s5BMiStH3LS4vA=/fit-in/67x67/i/2001126681.png?f=fpa\" width=\"67\"/></a>,\n",
       " <a href=\"https://tweakers.net/reviews/6237/detroit-become-human-androids-met-emotie.html\">Review - Detroit: Become Human - Androids met emotie</a>,\n",
       " <a href=\"https://tweakers.net/reviews/6237/detroit-become-human-androids-met-emotie.html\"><img alt=\"Tweakers zegt: 8\" class=\"score-shield\" height=\"36\" src=\"https://ic.tweakimg.net/images/shield/80.svg\" title=\"Tweakers zegt: 8\" width=\"32\"/></a>,\n",
       " <a class=\"commentCount\" href=\"https://tweakers.net/reviews/6237/last/detroit-become-human-androids-met-emotie.html#reacties\" rel=\"nofollow\" title=\"107 reacties\">107</a>,\n",
       " <a class=\"thumb fpa\" href=\"https://tweakers.net/reviews/6239/de-avg-komt-eraan-wat-kun-je-er-precies-mee.html\" title=\"De AVG komt eraan - Wat kun je er precies mee?\"><img alt=\"\" height=\"67\" src=\"https://tweakers.net/i/vn4Ok93IAPngKEZ-6GcQDzm5Bzo=/fit-in/67x67/i/1234630431.png?f=fpa\" width=\"67\"/></a>,\n",
       " <a href=\"https://tweakers.net/reviews/6239/de-avg-komt-eraan-wat-kun-je-er-precies-mee.html\">Achtergrond - De AVG komt eraan - Wat kun je er precies mee?</a>,\n",
       " <a class=\"commentCount\" href=\"https://tweakers.net/reviews/6239/last/de-avg-komt-eraan-wat-kun-je-er-precies-mee.html#reacties\" rel=\"nofollow\" title=\"261 reacties\">261</a>,\n",
       " <a class=\"thumb fpa\" href=\"https://tweakers.net/reviews/6245/acer-swift-spin-en-predator-laptops-van-vederlicht-tot-dikke-gamemachine.html\" title=\"Acer Swift-, Spin- en Predator-laptops - Van vederlicht tot dikke gamemachine\"><img alt=\"\" height=\"67\" src=\"https://tweakers.net/i/wawCpA6bvMMvxfO4pvEYUaLf2tU=/67x67/filters:strip_icc()/i/2001994047.jpeg?f=fpa\" width=\"67\"/></a>,\n",
       " <a href=\"https://tweakers.net/reviews/6245/acer-swift-spin-en-predator-laptops-van-vederlicht-tot-dikke-gamemachine.html\">Preview - Acer Swift-, Spin- en Predator-laptops - Van vederlicht tot dikke gamemachine</a>,\n",
       " <a class=\"commentCount\" href=\"https://tweakers.net/reviews/6245/last/acer-swift-spin-en-predator-laptops-van-vederlicht-tot-dikke-gamemachine.html#reacties\" rel=\"nofollow\" title=\"41 reacties\">41</a>,\n",
       " <a class=\"thumb fpa\" href=\"https://tweakers.net/reviews/6251/imecs-techvisie-holografie-hdr-conversie-indoor-lokalisatie-en-meer.html\" title=\"Imec's techvisie - Holografie, hdr-conversie, indoor lokalisatie en meer\"><img alt=\"\" height=\"67\" src=\"https://tweakers.net/i/c7LdD9MP_PTFagxnRKqBHfa4e2o=/67x67/i/2001992947.png?f=fpa\" width=\"67\"/></a>,\n",
       " <a href=\"https://tweakers.net/reviews/6251/imecs-techvisie-holografie-hdr-conversie-indoor-lokalisatie-en-meer.html\">Achtergrond - Imec's techvisie - Holografie, hdr-conversie, indoor lokalisatie en meer</a>,\n",
       " <a class=\"commentCount\" href=\"https://tweakers.net/reviews/6251/last/imecs-techvisie-holografie-hdr-conversie-indoor-lokalisatie-en-meer.html#reacties\" rel=\"nofollow\" title=\"18 reacties\">18</a>,\n",
       " <a class=\"thumb fpa\" href=\"https://tweakers.net/reviews/6249/htc-u12+-een-tikje-hier-een-kneepje-daar.html\" title=\"HTC U12+ - Een tikje hier, een kneepje daar\"><img alt=\"\" height=\"67\" src=\"https://tweakers.net/i/ON2aOYwZ3EhErzPXKRlR1-p4xDI=/fit-in/67x67/i/1270893431.png?f=fpa\" width=\"67\"/></a>,\n",
       " <a href=\"https://tweakers.net/reviews/6249/htc-u12+-een-tikje-hier-een-kneepje-daar.html\">Preview - HTC U12+ - Een tikje hier, een kneepje daar</a>,\n",
       " <a class=\"commentCount\" href=\"https://tweakers.net/reviews/6249/last/htc-u12+-een-tikje-hier-een-kneepje-daar.html#reacties\" rel=\"nofollow\" title=\"68 reacties\">68</a>,\n",
       " <a class=\"thumb fpa\" href=\"https://tweakers.net/reviews/6195/desktop-best-buy-guide-mei-2018.html\" title=\"Desktop Best Buy Guide - Mei 2018\"><img alt=\"\" height=\"67\" src=\"https://tweakers.net/i/aWzqwFFw-i7t2pW-LaorZ7M2iAE=/67x67/filters:strip_icc()/i/2000619357.jpeg?f=fpa\" width=\"67\"/></a>,\n",
       " <a href=\"https://tweakers.net/reviews/6195/desktop-best-buy-guide-mei-2018.html\">Best Buy Guide - Desktop Best Buy Guide - Mei 2018</a>,\n",
       " <a class=\"commentCount\" href=\"https://tweakers.net/reviews/6195/last/desktop-best-buy-guide-mei-2018.html#reacties\" rel=\"nofollow\" title=\"173 reacties\">173</a>,\n",
       " <a class=\"thumb product\" href=\"https://tweakers.net/productreview/189285/oneplus-6-(64gb-opslag)-zwart.html\" title=\"OnePlus 6 (64GB opslag) Zwart review door Frozen\"><img alt=\"\" height=\"50\" src=\"https://tweakers.net/i/ZCvDHLglQi2Er8saeNQhOShGR2I=/fit-in/60x50/filters:strip_icc():fill(white)/i/2001985369.jpeg?f=thumbmini\" width=\"60\"/></a>,\n",
       " <a href=\"https://tweakers.net/productreview/189285/oneplus-6-(64gb-opslag)-zwart.html\">Gebruikersreview - <span class=\"scoreButton score3 \" title=\"Beoordeling van de review: +3\">+3</span>OnePlus 6 (64GB opslag) Zwart review door Frozen</a>,\n",
       " <a class=\"readMore\" href=\"https://tweakers.net/product/760671/oneplus-6/reviews/\">Lees alle 4 reviews van dit product</a>,\n",
       " <a href=\"https://tweakers.net/productreview/189285/oneplus-6-(64gb-opslag)-zwart.html\"><span class=\"sprite scoreStars score50\" title=\"Score: 5\">Score: 5</span></a>,\n",
       " <a class=\"commentCount\" href=\"https://tweakers.net/productreview/189285/oneplus-6-(64gb-opslag)-zwart.html#reacties\" rel=\"nofollow\" title=\"41 reacties\">41</a>,\n",
       " <a class=\"thumb fpa\" href=\"https://tweakers.net/reviews/6099/laptop-best-buy-guide-april-2018.html\" title=\"Laptop Best Buy Guide - April 2018\"><img alt=\"\" height=\"67\" src=\"https://tweakers.net/i/woJdD4w4GrqOXi2K2bpcgZVXoGU=/67x67/filters:strip_icc()/i/2000619358.jpeg?f=fpa\" width=\"67\"/></a>,\n",
       " <a href=\"https://tweakers.net/reviews/6099/laptop-best-buy-guide-april-2018.html\">Best Buy Guide - Laptop Best Buy Guide - April 2018</a>,\n",
       " <a class=\"commentCount\" href=\"https://tweakers.net/reviews/6099/last/laptop-best-buy-guide-april-2018.html#reacties\" rel=\"nofollow\" title=\"106 reacties\">106</a>,\n",
       " <a class=\"thumb fpa\" href=\"https://tweakers.net/reviews/6157/huawei-p20-pro-als-je-voor-accuduur-en-camera-gaat.html\" title=\"Huawei P20 Pro - Als je voor accuduur en camera gaat\"><img alt=\"\" height=\"67\" src=\"https://tweakers.net/i/kW5lcuZU90OxeqvjR_nGCksxPos=/fit-in/67x67/filters:gifsicle()/i/1323684051.gif?f=fpa\" width=\"67\"/></a>,\n",
       " <a href=\"https://tweakers.net/reviews/6157/huawei-p20-pro-als-je-voor-accuduur-en-camera-gaat.html\">Review - Huawei P20 Pro - Als je voor accuduur en camera gaat</a>,\n",
       " <a href=\"https://tweakers.net/reviews/6157/huawei-p20-pro-als-je-voor-accuduur-en-camera-gaat.html\"><img alt=\"Tweakers zegt: 8,5\" class=\"score-shield\" height=\"36\" src=\"https://ic.tweakimg.net/images/shield/85.svg\" title=\"Tweakers zegt: 8,5\" width=\"32\"/></a>,\n",
       " <a class=\"commentCount\" href=\"https://tweakers.net/reviews/6157/last/huawei-p20-pro-als-je-voor-accuduur-en-camera-gaat.html#reacties\" rel=\"nofollow\" title=\"156 reacties\">156</a>,\n",
       " <a class=\"thumb product\" href=\"https://tweakers.net/productreview/189163/fossil-q-explorist-ftw4003-zilver-(bruin).html\" title=\"Fossil Q Explorist FTW4003 Zilver (Bruin) review door MK_\"><img alt=\"\" height=\"50\" src=\"https://tweakers.net/i/sl2uGy-iyV1USI3E7LB7D8Y8vR4=/fit-in/60x50/filters:fill(white)/i/2001662817.png?f=thumbmini\" width=\"60\"/></a>,\n",
       " <a href=\"https://tweakers.net/productreview/189163/fossil-q-explorist-ftw4003-zilver-(bruin).html\">Gebruikersreview - <span class=\"scoreButton score3 \" title=\"Beoordeling van de review: +3\">+3</span>Fossil Q Explorist FTW4003 Zilver (Bruin) review door MK_</a>,\n",
       " <a class=\"readMore\" href=\"https://tweakers.net/product/692181/fossil-q-explorist/reviews/\">Lees alle 55 reviews van dit product</a>,\n",
       " <a href=\"https://tweakers.net/productreview/189163/fossil-q-explorist-ftw4003-zilver-(bruin).html\"><span class=\"sprite scoreStars score50\" title=\"Score: 5\">Score: 5</span></a>,\n",
       " <a class=\"commentCount\" href=\"https://tweakers.net/productreview/189163/fossil-q-explorist-ftw4003-zilver-(bruin).html#reacties\" rel=\"nofollow\" title=\"29 reacties\">29</a>,\n",
       " <a class=\"thumb fpa\" href=\"https://tweakers.net/reviews/6091/samsung-galaxy-s9-en-s9+-hetzelfde-maar-dan-beter.html\" title=\"Samsung Galaxy S9 en S9+ - Hetzelfde, maar dan beter\"><img alt=\"\" height=\"67\" src=\"https://tweakers.net/i/ZHVD2qNKfuk-flttRoMVageCVFE=/67x67/filters:strip_icc()/i/2001897255.jpeg?f=fpa\" width=\"67\"/></a>,\n",
       " <a href=\"https://tweakers.net/reviews/6091/samsung-galaxy-s9-en-s9+-hetzelfde-maar-dan-beter.html\">Review - Samsung Galaxy S9 en S9+ - Hetzelfde, maar dan beter</a>,\n",
       " <a class=\"commentCount\" href=\"https://tweakers.net/reviews/6091/last/samsung-galaxy-s9-en-s9+-hetzelfde-maar-dan-beter.html#reacties\" rel=\"nofollow\" title=\"362 reacties\">362</a>,\n",
       " <a class=\"thumb fpa\" href=\"https://tweakers.net/reviews/6127/huawei-p-smart-slimme-keuzes-in-een-budgetphone.html\" title=\"Huawei P smart - Slimme keuzes in een budgetphone\"><img alt=\"\" height=\"67\" src=\"https://tweakers.net/i/jGdNwrl30AmbV8gJE6dCDk4epLw=/fit-in/67x67/filters:strip_icc()/i/2001356855.jpeg?f=fpa\" width=\"67\"/></a>,\n",
       " <a href=\"https://tweakers.net/reviews/6127/huawei-p-smart-slimme-keuzes-in-een-budgetphone.html\">Review - Huawei P smart - Slimme keuzes in een budgetphone</a>,\n",
       " <a href=\"https://tweakers.net/reviews/6127/huawei-p-smart-slimme-keuzes-in-een-budgetphone.html\"><img alt=\"Tweakers zegt: 8,5\" class=\"score-shield\" height=\"36\" src=\"https://ic.tweakimg.net/images/shield/85.svg\" title=\"Tweakers zegt: 8,5\" width=\"32\"/></a>,\n",
       " <a class=\"commentCount\" href=\"https://tweakers.net/reviews/6127/last/huawei-p-smart-slimme-keuzes-in-een-budgetphone.html#reacties\" rel=\"nofollow\" title=\"114 reacties\">114</a>,\n",
       " <a class=\"thumb fpa\" href=\"https://tweakers.net/reviews/6141/nokia-7-plus-fijn-vlot-en-zuiver.html\" title=\"Nokia 7 Plus - Fijn, vlot en zuiver\"><img alt=\"\" height=\"67\" src=\"https://tweakers.net/i/MFsO1p1kVcHAz-AT83Iio8q9bmA=/fit-in/67x67/filters:strip_icc()/i/1361183294.jpeg?f=fpa\" width=\"67\"/></a>,\n",
       " <a href=\"https://tweakers.net/reviews/6141/nokia-7-plus-fijn-vlot-en-zuiver.html\">Review - Nokia 7 Plus - Fijn, vlot en zuiver</a>,\n",
       " <a href=\"https://tweakers.net/reviews/6141/nokia-7-plus-fijn-vlot-en-zuiver.html\"><img alt=\"Tweakers zegt: 7,5\" class=\"score-shield\" height=\"36\" src=\"https://ic.tweakimg.net/images/shield/75.svg\" title=\"Tweakers zegt: 7,5\" width=\"32\"/></a>,\n",
       " <a class=\"commentCount\" href=\"https://tweakers.net/reviews/6141/last/nokia-7-plus-fijn-vlot-en-zuiver.html#reacties\" rel=\"nofollow\" title=\"129 reacties\">129</a>,\n",
       " <a class=\"thumb fpa\" href=\"https://tweakers.net/reviews/6247/call-of-duty-black-ops-4-drie-multiplayerpotjes-in-beeld.html\" title=\"Call of Duty: Black Ops 4 - Drie multiplayerpotjes in beeld\"><img alt=\"\" height=\"67\" src=\"https://tweakers.net/i/bTBGsYkaQlCQiVxYAgXbI7up9s8=/67x67/i/2001987713.png?f=fpa\" width=\"67\"/></a>,\n",
       " <a href=\"https://tweakers.net/reviews/6247/call-of-duty-black-ops-4-drie-multiplayerpotjes-in-beeld.html\">Preview - Call of Duty: Black Ops 4 - Drie multiplayerpotjes in beeld</a>,\n",
       " <a class=\"commentCount\" href=\"https://tweakers.net/reviews/6247/last/call-of-duty-black-ops-4-drie-multiplayerpotjes-in-beeld.html#reacties\" rel=\"nofollow\" title=\"107 reacties\">107</a>,\n",
       " <a class=\"thumb fpa\" href=\"https://tweakers.net/reviews/6001/vriendelijk-geprijsde-androids-de-felle-strijd-in-de-goedkope-middenklasse.html\" title=\"Vriendelijk geprijsde Androids - De felle strijd in de goedkope middenklasse\"><img alt=\"\" height=\"67\" src=\"https://tweakers.net/i/-j8ZizzgElIdFDnV3crmXQDUomE=/67x67/i/1224524769.png?f=fpa\" width=\"67\"/></a>,\n",
       " <a href=\"https://tweakers.net/reviews/6001/vriendelijk-geprijsde-androids-de-felle-strijd-in-de-goedkope-middenklasse.html\">Round-up - Vriendelijk geprijsde Androids - De felle strijd in de goedkope middenklasse</a>,\n",
       " <a class=\"commentCount\" href=\"https://tweakers.net/reviews/6001/last/vriendelijk-geprijsde-androids-de-felle-strijd-in-de-goedkope-middenklasse.html#reacties\" rel=\"nofollow\" title=\"223 reacties\">223</a>,\n",
       " <a class=\"thumb product\" href=\"https://tweakers.net/productreview/188965/ledger-nano-s.html\" title=\"Ledger Nano S review door Foritain\"><img alt=\"\" height=\"50\" src=\"https://tweakers.net/i/GB0dndYp7IR8gOssE1Nzpb5RBWk=/fit-in/60x50/filters:fill(white)/i/2001496601.png?f=thumbmini\" width=\"60\"/></a>,\n",
       " <a href=\"https://tweakers.net/productreview/188965/ledger-nano-s.html\">Gebruikersreview - <span class=\"scoreButton score3 \" title=\"Beoordeling van de review: +3\">+3</span>Ledger Nano S review door Foritain</a>,\n",
       " <a class=\"readMore\" href=\"https://tweakers.net/pricewatch/768837/ledger-nano-s/reviews/\">Lees alle 8 reviews van dit product</a>,\n",
       " <a href=\"https://tweakers.net/productreview/188965/ledger-nano-s.html\"><span class=\"sprite scoreStars score40\" title=\"Score: 4\">Score: 4</span></a>,\n",
       " <a class=\"commentCount\" href=\"https://tweakers.net/productreview/188965/ledger-nano-s.html#reacties\" rel=\"nofollow\" title=\"10 reacties\">10</a>,\n",
       " <a class=\"thumb video small\" href=\"https://tweakers.net/video/16827/htc-u12+-een-tikje-hier-een-kneepje-daar.html\" title=\"HTC U12+ - Een tikje hier, een kneepje daar\"><img alt=\"\" height=\"38\" src=\"https://tweakers.net/i/2dx6PThovNJIpn1224hZFWPlMYk=/124x70/filters:strip_icc()/i/2001993377.jpeg?f=thumbs_video\" width=\"67\"/></a>,\n",
       " <a href=\"https://tweakers.net/video/16827/htc-u12+-een-tikje-hier-een-kneepje-daar.html\">Videopreview - HTC U12+ - Een tikje hier, een kneepje daar</a>,\n",
       " <a class=\"commentCount\" href=\"https://tweakers.net/video/16827/htc-u12+-een-tikje-hier-een-kneepje-daar.html#reacties\" rel=\"nofollow\" title=\"9 reacties\">9</a>,\n",
       " <a class=\"thumb fpa\" href=\"https://tweakers.net/reviews/6175/raw-editors-voor-je-fotos-wat-zijn-de-alternatieven-voor-lightroom.html\" title=\"Raw-editors voor je foto's - Wat zijn de alternatieven voor Lightroom?\"><img alt=\"\" height=\"67\" src=\"https://tweakers.net/i/Z6btxJzIXuSEj5cbV2oI-O3U-cU=/67x67/i/2001972325.png?f=fpa\" width=\"67\"/></a>,\n",
       " <a href=\"https://tweakers.net/reviews/6175/raw-editors-voor-je-fotos-wat-zijn-de-alternatieven-voor-lightroom.html\">Round-up - Raw-editors voor je foto's - Wat zijn de alternatieven voor Lightroom?</a>,\n",
       " <a class=\"commentCount\" href=\"https://tweakers.net/reviews/6175/last/raw-editors-voor-je-fotos-wat-zijn-de-alternatieven-voor-lightroom.html#reacties\" rel=\"nofollow\" title=\"222 reacties\">222</a>,\n",
       " <a class=\"thumb video small\" href=\"https://tweakers.net/video/16825/oneplus-6-blinkt-uit-in-zijn-eenvoud.html\" title=\"OnePlus 6 - Blinkt uit in zijn eenvoud\"><img alt=\"\" height=\"38\" src=\"https://tweakers.net/i/Izj5rxjVuPWFlFd2ByUopsEdBzg=/124x70/i/2001992923.png?f=thumbs_video\" width=\"67\"/></a>,\n",
       " <a href=\"https://tweakers.net/video/16825/oneplus-6-blinkt-uit-in-zijn-eenvoud.html\">Videoreview - OnePlus 6 - Blinkt uit in zijn eenvoud</a>,\n",
       " <a class=\"commentCount\" href=\"https://tweakers.net/video/16825/oneplus-6-blinkt-uit-in-zijn-eenvoud.html#reacties\" rel=\"nofollow\" title=\"1 reactie\">1</a>,\n",
       " <a class=\"thumb fpa\" href=\"https://tweakers.net/reviews/6191/sony-xperia-xz2-compact-en-xz2-compact-of-completer.html\" title=\"Sony Xperia XZ2 Compact en XZ2 - Compact of completer\"><img alt=\"\" height=\"67\" src=\"https://tweakers.net/i/UsYV6Vi6p7TXSs-Z-U0MhNtqs30=/fit-in/67x67/filters:gifsicle()/i/1252593807.gif?f=fpa\" width=\"67\"/></a>,\n",
       " <a href=\"https://tweakers.net/reviews/6191/sony-xperia-xz2-compact-en-xz2-compact-of-completer.html\">Review - Sony Xperia XZ2 Compact en XZ2 - Compact of completer</a>,\n",
       " <a class=\"commentCount\" href=\"https://tweakers.net/reviews/6191/last/sony-xperia-xz2-compact-en-xz2-compact-of-completer.html#reacties\" rel=\"nofollow\" title=\"113 reacties\">113</a>,\n",
       " <a class=\"thumb fpa\" href=\"https://tweakers.net/reviews/6009/laptop-best-buy-guide-februari-2018.html\" title=\"Laptop Best Buy Guide - Februari 2018\"><img alt=\"\" height=\"67\" src=\"https://tweakers.net/i/woJdD4w4GrqOXi2K2bpcgZVXoGU=/67x67/filters:strip_icc()/i/2000619358.jpeg?f=fpa\" width=\"67\"/></a>,\n",
       " <a href=\"https://tweakers.net/reviews/6009/laptop-best-buy-guide-februari-2018.html\">Best Buy Guide - Laptop Best Buy Guide - Februari 2018</a>,\n",
       " <a class=\"commentCount\" href=\"https://tweakers.net/reviews/6009/last/laptop-best-buy-guide-februari-2018.html#reacties\" rel=\"nofollow\" title=\"193 reacties\">193</a>,\n",
       " <a class=\"thumb fpa\" href=\"https://tweakers.net/reviews/6143/apple-ipad-2018-de-tablet-waar-apple-mee-weg-kan-komen.html\" title=\"Apple iPad 2018 - De tablet waar Apple mee weg kan komen\"><img alt=\"\" height=\"67\" src=\"https://tweakers.net/i/jpJqDn0RtUsbMSgcPHBCnYsB1V4=/67x67/filters:strip_icc()/i/2001901851.jpeg?f=fpa\" width=\"67\"/></a>,\n",
       " <a href=\"https://tweakers.net/reviews/6143/apple-ipad-2018-de-tablet-waar-apple-mee-weg-kan-komen.html\">Review - Apple iPad 2018 - De tablet waar Apple mee weg kan komen</a>,\n",
       " <a href=\"https://tweakers.net/reviews/6143/apple-ipad-2018-de-tablet-waar-apple-mee-weg-kan-komen.html\"><img alt=\"Tweakers zegt: 7,5\" class=\"score-shield\" height=\"36\" src=\"https://ic.tweakimg.net/images/shield/75.svg\" title=\"Tweakers zegt: 7,5\" width=\"32\"/></a>,\n",
       " <a class=\"commentCount\" href=\"https://tweakers.net/reviews/6143/last/apple-ipad-2018-de-tablet-waar-apple-mee-weg-kan-komen.html#reacties\" rel=\"nofollow\" title=\"247 reacties\">247</a>,\n",
       " <a class=\"current\" href=\"https://tweakers.net/reviews/zoeken/?pageSize=25&amp;page=1\" rel=\"nofollow\">25</a>,\n",
       " <a href=\"https://tweakers.net/reviews/zoeken/?pageSize=50&amp;page=1\" rel=\"nofollow\">50</a>,\n",
       " <a href=\"https://tweakers.net/reviews/zoeken/?pageSize=100&amp;page=1\" rel=\"nofollow\">100</a>,\n",
       " <a href=\"https://tweakers.net/reviews/zoeken/?page=2\" title=\"Resultaten 26 t/m 50\">2</a>,\n",
       " <a href=\"https://tweakers.net/reviews/zoeken/?page=3\" title=\"Resultaten 51 t/m 75\">3</a>,\n",
       " <a href=\"https://tweakers.net/reviews/zoeken/?page=907\" title=\"Resultaten 22.651 t/m 22.656\">907</a>,\n",
       " <a class=\"next\" href=\"https://tweakers.net/reviews/zoeken/?page=2\" title=\"Volgende pagina\">Volgende</a>,\n",
       " <a href=\"https://tweakers.net/product/776401/call-of-duty-black-ops-4/overzicht/\">Call of Duty: Black Ops 4</a>,\n",
       " <a href=\"https://tweakers.net/product/776403/htc-u12+-dual-sim/overzicht/\">HTC U12+ dual sim</a>,\n",
       " <a href=\"https://tweakers.net/product/580075/lg-w7/overzicht/\">LG W7</a>,\n",
       " <a href=\"https://tweakers.net/product/722515/samsung-galaxy-s9-dual-sim/overzicht/\">Samsung Galaxy S9 Dual Sim</a>,\n",
       " <a href=\"https://tweakers.net/product/760671/oneplus-6/overzicht/\">OnePlus 6</a>,\n",
       " <a href=\"https://tweakers.net/product/474721/battlefield-v/overzicht/\">Battlefield V</a>,\n",
       " <a href=\"https://tweakers.net/product/614617/microsoft-xbox-one-x/overzicht/\">Microsoft Xbox One X</a>,\n",
       " <a href=\"https://tweakers.net/product/614591/apple-iphone-8/overzicht/\">Apple iPhone 8</a>,\n",
       " <a href=\"https://tweakers.net/info/advertising/\">Adverteren</a>,\n",
       " <a href=\"https://tweakers.net/info/over_tweakers/contact/\">Contact</a>,\n",
       " <a href=\"https://tweakers.net/info/vacatures/\">Vacatures</a>,\n",
       " <a href=\"https://tweakers.net/info/over_tweakers/\">Over Tweakers</a>,\n",
       " <a href=\"https://tweakers.net/info/algemene-voorwaarden/privacy/\">Jouw privacy</a>,\n",
       " <a href=\"https://tweakers.net/info/algemene-voorwaarden/\">Algemene voorwaarden</a>,\n",
       " <a href=\"https://tweakers.net/info/algemene-voorwaarden/cookies/\">Cookies</a>,\n",
       " <a class=\"button twitter\" href=\"https://twitter.com/tweakers\" rel=\"external\"><span>Volg @tweakers</span></a>,\n",
       " <a class=\"button facebook\" href=\"https://www.facebook.com/Tweakers.net\" rel=\"external\"><span>Like Tweakers</span></a>,\n",
       " <a class=\"button rss\" href=\"https://tweakers.net/feeds/mixed.xml\"><span>Rss-feeds</span></a>,\n",
       " <a href=\"https://tweakers.net/plan/1423/tweakers-valt-in-de-prijzen-bij-website-van-het-jaar-verkiezing.html\" title=\"Website van het jaar 2017\"></a>,\n",
       " <a href=\"https://tweakers.net/\">Tweakers</a>,\n",
       " <a href=\"https://www.tweakers-elect.com/\" rel=\"external\">Tweakers Elect</a>,\n",
       " <a href=\"https://nl.hardware.info/\" rel=\"external\">Hardware.Info</a>,\n",
       " <a href=\"https://www.autotrack.nl/\" rel=\"external\">Autotrack</a>,\n",
       " <a href=\"https://www.nationalevacaturebank.nl/\" rel=\"external\">Nationale Vacaturebank</a>,\n",
       " <a href=\"https://www.intermediair.nl/\" rel=\"external\">Intermediair</a>,\n",
       " <a href=\"https://www.persgroeponlineservices.nl/\" rel=\"external\">de Persgroep Online Services B.V.</a>,\n",
       " <a href=\"https://www.true.nl/vps/\" rel=\"external\" title=\"VPS hosting\">True</a>]"
      ]
     },
     "execution_count": 34,
     "metadata": {},
     "output_type": "execute_result"
    }
   ],
   "source": [
    "alllinksinapage"
   ]
  },
  {
   "cell_type": "code",
   "execution_count": 39,
   "metadata": {},
   "outputs": [],
   "source": [
    "osman=mysoup.find_all(\"p\", class_=\"score\")"
   ]
  },
  {
   "cell_type": "code",
   "execution_count": 151,
   "metadata": {},
   "outputs": [
    {
     "data": {
      "text/plain": [
       "[<p class=\"score\"><a href=\"https://tweakers.net/reviews/6229/oneplus-6-blinkt-uit-in-zijn-eenvoud.html\"><img alt=\"Tweakers zegt: 9\" class=\"score-shield\" height=\"36\" src=\"https://ic.tweakimg.net/images/shield/90.svg\" title=\"Tweakers zegt: 9\" width=\"32\"/></a></p>,\n",
       " <p class=\"score\"><a href=\"https://tweakers.net/reviews/6237/detroit-become-human-androids-met-emotie.html\"><img alt=\"Tweakers zegt: 8\" class=\"score-shield\" height=\"36\" src=\"https://ic.tweakimg.net/images/shield/80.svg\" title=\"Tweakers zegt: 8\" width=\"32\"/></a></p>,\n",
       " <p class=\"score\"><a href=\"https://tweakers.net/productreview/189285/oneplus-6-(64gb-opslag)-zwart.html\"><span class=\"sprite scoreStars score50\" title=\"Score: 5\">Score: 5</span></a></p>,\n",
       " <p class=\"score\"><a href=\"https://tweakers.net/reviews/6157/huawei-p20-pro-als-je-voor-accuduur-en-camera-gaat.html\"><img alt=\"Tweakers zegt: 8,5\" class=\"score-shield\" height=\"36\" src=\"https://ic.tweakimg.net/images/shield/85.svg\" title=\"Tweakers zegt: 8,5\" width=\"32\"/></a></p>,\n",
       " <p class=\"score\"><a href=\"https://tweakers.net/productreview/189163/fossil-q-explorist-ftw4003-zilver-(bruin).html\"><span class=\"sprite scoreStars score50\" title=\"Score: 5\">Score: 5</span></a></p>,\n",
       " <p class=\"score\"><a href=\"https://tweakers.net/reviews/6127/huawei-p-smart-slimme-keuzes-in-een-budgetphone.html\"><img alt=\"Tweakers zegt: 8,5\" class=\"score-shield\" height=\"36\" src=\"https://ic.tweakimg.net/images/shield/85.svg\" title=\"Tweakers zegt: 8,5\" width=\"32\"/></a></p>,\n",
       " <p class=\"score\"><a href=\"https://tweakers.net/reviews/6141/nokia-7-plus-fijn-vlot-en-zuiver.html\"><img alt=\"Tweakers zegt: 7,5\" class=\"score-shield\" height=\"36\" src=\"https://ic.tweakimg.net/images/shield/75.svg\" title=\"Tweakers zegt: 7,5\" width=\"32\"/></a></p>,\n",
       " <p class=\"score\"><a href=\"https://tweakers.net/productreview/188965/ledger-nano-s.html\"><span class=\"sprite scoreStars score40\" title=\"Score: 4\">Score: 4</span></a></p>,\n",
       " <p class=\"score\"><a href=\"https://tweakers.net/reviews/6143/apple-ipad-2018-de-tablet-waar-apple-mee-weg-kan-komen.html\"><img alt=\"Tweakers zegt: 7,5\" class=\"score-shield\" height=\"36\" src=\"https://ic.tweakimg.net/images/shield/75.svg\" title=\"Tweakers zegt: 7,5\" width=\"32\"/></a></p>]"
      ]
     },
     "execution_count": 151,
     "metadata": {},
     "output_type": "execute_result"
    }
   ],
   "source": [
    "a=list(osman)\n",
    "a"
   ]
  },
  {
   "cell_type": "code",
   "execution_count": 142,
   "metadata": {},
   "outputs": [],
   "source": [
    "#pattern=re.compile(r\"Score: 1|Score: 2|Score: 4|Score: 5|*\")\n",
    "b=a[2].find_all(\"span\", title=\"Score: 5\")\n",
    "bstr=str(b[0])\n",
    "pattern=\"Score: \"\n",
    "match=re.findall(pattern,bstr)\n",
    "\n",
    "# a[2].find(\"span\", title=\"Score: 5\")"
   ]
  },
  {
   "cell_type": "code",
   "execution_count": 161,
   "metadata": {},
   "outputs": [],
   "source": [
    "b[0].find(\"span\", {\"title\": \"Score: 5\"})"
   ]
  },
  {
   "cell_type": "code",
   "execution_count": 144,
   "metadata": {},
   "outputs": [
    {
     "data": {
      "text/plain": [
       "[<span class=\"sprite scoreStars score50\" title=\"Score: 5\">Score: 5</span>]"
      ]
     },
     "execution_count": 144,
     "metadata": {},
     "output_type": "execute_result"
    }
   ],
   "source": [
    "b"
   ]
  },
  {
   "cell_type": "code",
   "execution_count": 154,
   "metadata": {},
   "outputs": [
    {
     "ename": "AttributeError",
     "evalue": "ResultSet object has no attribute 'find_all'. You're probably treating a list of items like a single item. Did you call find_all() when you meant to call find()?",
     "output_type": "error",
     "traceback": [
      "\u001b[1;31m---------------------------------------------------------------------------\u001b[0m",
      "\u001b[1;31mAttributeError\u001b[0m                            Traceback (most recent call last)",
      "\u001b[1;32m<ipython-input-154-467a3c149bf8>\u001b[0m in \u001b[0;36m<module>\u001b[1;34m()\u001b[0m\n\u001b[0;32m      1\u001b[0m \u001b[0mb\u001b[0m\u001b[1;33m=\u001b[0m\u001b[0ma\u001b[0m\u001b[1;33m[\u001b[0m\u001b[1;36m2\u001b[0m\u001b[1;33m]\u001b[0m\u001b[1;33m.\u001b[0m\u001b[0mfind_all\u001b[0m\u001b[1;33m(\u001b[0m\u001b[1;34m\"span\"\u001b[0m\u001b[1;33m,\u001b[0m \u001b[0mtitle\u001b[0m\u001b[1;33m=\u001b[0m\u001b[1;34m\"Score: 5\"\u001b[0m\u001b[1;33m)\u001b[0m\u001b[1;33m\u001b[0m\u001b[0m\n\u001b[0;32m      2\u001b[0m \u001b[0mc\u001b[0m\u001b[1;33m=\u001b[0m\u001b[0mlist\u001b[0m\u001b[1;33m(\u001b[0m\u001b[0mb\u001b[0m\u001b[1;33m)\u001b[0m\u001b[1;33m\u001b[0m\u001b[0m\n\u001b[1;32m----> 3\u001b[1;33m \u001b[1;32mfor\u001b[0m \u001b[0mtag\u001b[0m \u001b[1;32min\u001b[0m \u001b[0mosman\u001b[0m\u001b[1;33m.\u001b[0m\u001b[0mfind_all\u001b[0m\u001b[1;33m(\u001b[0m\u001b[0mpattern\u001b[0m\u001b[1;33m)\u001b[0m\u001b[1;33m:\u001b[0m\u001b[1;33m\u001b[0m\u001b[0m\n\u001b[0m\u001b[0;32m      4\u001b[0m     \u001b[0mprint\u001b[0m\u001b[1;33m(\u001b[0m\u001b[0mtag\u001b[0m\u001b[1;33m)\u001b[0m\u001b[1;33m\u001b[0m\u001b[0m\n",
      "\u001b[1;32m~\\Anaconda3\\lib\\site-packages\\bs4\\element.py\u001b[0m in \u001b[0;36m__getattr__\u001b[1;34m(self, key)\u001b[0m\n\u001b[0;32m   1805\u001b[0m     \u001b[1;32mdef\u001b[0m \u001b[0m__getattr__\u001b[0m\u001b[1;33m(\u001b[0m\u001b[0mself\u001b[0m\u001b[1;33m,\u001b[0m \u001b[0mkey\u001b[0m\u001b[1;33m)\u001b[0m\u001b[1;33m:\u001b[0m\u001b[1;33m\u001b[0m\u001b[0m\n\u001b[0;32m   1806\u001b[0m         raise AttributeError(\n\u001b[1;32m-> 1807\u001b[1;33m             \u001b[1;34m\"ResultSet object has no attribute '%s'. You're probably treating a list of items like a single item. Did you call find_all() when you meant to call find()?\"\u001b[0m \u001b[1;33m%\u001b[0m \u001b[0mkey\u001b[0m\u001b[1;33m\u001b[0m\u001b[0m\n\u001b[0m\u001b[0;32m   1808\u001b[0m         )\n",
      "\u001b[1;31mAttributeError\u001b[0m: ResultSet object has no attribute 'find_all'. You're probably treating a list of items like a single item. Did you call find_all() when you meant to call find()?"
     ]
    }
   ],
   "source": [
    "b=a[2].find_all(\"span\", title=\"Score: 5\")\n",
    "c=list(b)\n",
    "for tag in osman.find_all(pattern):\n",
    "    print(tag)\n",
    "\n"
   ]
  },
  {
   "cell_type": "code",
   "execution_count": 149,
   "metadata": {},
   "outputs": [
    {
     "data": {
      "text/plain": [
       "[<span class=\"sprite scoreStars score50\" title=\"Score: 5\">Score: 5</span>]"
      ]
     },
     "execution_count": 149,
     "metadata": {},
     "output_type": "execute_result"
    }
   ],
   "source": [
    "c"
   ]
  },
  {
   "cell_type": "code",
   "execution_count": null,
   "metadata": {},
   "outputs": [],
   "source": []
  },
  {
   "cell_type": "code",
   "execution_count": null,
   "metadata": {},
   "outputs": [],
   "source": []
  },
  {
   "cell_type": "code",
   "execution_count": 11,
   "metadata": {},
   "outputs": [
    {
     "ename": "IndexError",
     "evalue": "list index out of range",
     "output_type": "error",
     "traceback": [
      "\u001b[1;31m---------------------------------------------------------------------------\u001b[0m",
      "\u001b[1;31mIndexError\u001b[0m                                Traceback (most recent call last)",
      "\u001b[1;32m<ipython-input-11-b00e77ce57ff>\u001b[0m in \u001b[0;36m<module>\u001b[1;34m()\u001b[0m\n\u001b[1;32m----> 1\u001b[1;33m \u001b[0mnext_page\u001b[0m\u001b[1;33m=\u001b[0m\u001b[1;33m[\u001b[0m\u001b[0mi\u001b[0m \u001b[1;32mfor\u001b[0m \u001b[0mi\u001b[0m \u001b[1;32min\u001b[0m \u001b[0malllinksinapage\u001b[0m \u001b[1;32mif\u001b[0m \u001b[1;34m\"https://tweakers.net/reviews/zoeken/?page=\"\u001b[0m \u001b[1;32min\u001b[0m \u001b[0mstr\u001b[0m\u001b[1;33m(\u001b[0m\u001b[0mi\u001b[0m\u001b[1;33m)\u001b[0m\u001b[1;33m]\u001b[0m\u001b[1;33m[\u001b[0m\u001b[1;36m0\u001b[0m\u001b[1;33m]\u001b[0m\u001b[1;33m[\u001b[0m\u001b[1;34m\"href\"\u001b[0m\u001b[1;33m]\u001b[0m\u001b[1;33m\u001b[0m\u001b[0m\n\u001b[0m",
      "\u001b[1;31mIndexError\u001b[0m: list index out of range"
     ]
    }
   ],
   "source": [
    "next_page=[i for i in alllinksinapage if \"https://tweakers.net/reviews/zoeken/?page=\" in str(i)][0][\"href\"]"
   ]
  }
 ],
 "metadata": {
  "kernelspec": {
   "display_name": "Python 3",
   "language": "python",
   "name": "python3"
  },
  "language_info": {
   "codemirror_mode": {
    "name": "ipython",
    "version": 3
   },
   "file_extension": ".py",
   "mimetype": "text/x-python",
   "name": "python",
   "nbconvert_exporter": "python",
   "pygments_lexer": "ipython3",
   "version": "3.6.4"
  }
 },
 "nbformat": 4,
 "nbformat_minor": 2
}
